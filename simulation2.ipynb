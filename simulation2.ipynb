{
 "cells": [
  {
   "cell_type": "code",
   "execution_count": null,
   "metadata": {},
   "outputs": [],
   "source": [
    "from probability_distributions import *\n",
    "import matplotlib.pyplot as plt\n",
    "\n",
    "from probability_distributions import * \n",
    "from utils import *\n",
    "from model import *\n",
    "from train import *\n",
    "from dataset import *"
   ]
  },
  {
   "cell_type": "code",
   "execution_count": null,
   "metadata": {},
   "outputs": [],
   "source": [
    "img_size = (64, 64)\n",
    "p_radius = P_Radius(high=img_size[0]//2)\n",
    "radius = p_radius.sample()\n",
    "\n",
    "p_brightness = P_Brightness(high=255)\n",
    "brightness = p_brightness.sample()\n",
    "\n",
    "p_x_under_f = P_X_under_F(radius, brightness, std=25, size=img_size)\n",
    "x = p_x_under_f.sample()\n",
    "\n",
    "plt.imshow(x, cmap=\"gray\")\n",
    "plt.show()"
   ]
  },
  {
   "cell_type": "code",
   "execution_count": null,
   "metadata": {},
   "outputs": [],
   "source": [
    "P_F_under_X(p_x_under_f, p_radius, p_brightness).loglikelihood(x, radius, brightness)"
   ]
  },
  {
   "cell_type": "code",
   "execution_count": null,
   "metadata": {},
   "outputs": [],
   "source": [
    "### Create training data\n",
    "n = 10000\n",
    "noise_std = 25\n",
    "radius = []\n",
    "brightness = []\n",
    "x = []\n",
    "for _ in range(n):\n",
    "    radius.append(p_radius.sample())\n",
    "    brightness.append(p_brightness.sample())\n",
    "    p_x_under_f = P_X_under_F(radius[-1], brightness[-1], std=noise_std, size=img_size)\n",
    "    x.append(p_x_under_f.sample())"
   ]
  },
  {
   "cell_type": "code",
   "execution_count": null,
   "metadata": {},
   "outputs": [],
   "source": [
    "plt.imshow(x[5], cmap=\"gray\")"
   ]
  },
  {
   "cell_type": "code",
   "execution_count": null,
   "metadata": {},
   "outputs": [],
   "source": [
    "dataset = Dataset(x, radius, brightness)\n",
    "train_set, val_set = torch.utils.data.random_split(dataset, [0.8, 0.2])\n",
    "train_loader = torch.utils.data.DataLoader(train_set, batch_size=128, shuffle=True)\n",
    "val_loader = torch.utils.data.DataLoader(val_set, batch_size=128, shuffle=True)"
   ]
  },
  {
   "cell_type": "code",
   "execution_count": null,
   "metadata": {},
   "outputs": [],
   "source": [
    "device = torch.device(\"cuda\" if torch.cuda.is_available() else \"cpu\")\n",
    "\n",
    "x_mean = torch.stack(x).mean()\n",
    "x_std = torch.stack(x).std()\n",
    "\n",
    "# Create model\n",
    "model = CNN(8, x_mean, x_std, img_size=img_size, n_gaussians=1, n_features=3)\n",
    "# Create optimiser\n",
    "optimizer = torch.optim.Adamax(model.parameters())\n",
    "# Train\n",
    "train_losses, val_losses = train(\n",
    "    model,\n",
    "    optimizer,\n",
    "    train_loader,\n",
    "    val_loader,\n",
    "    n_epochs=200,\n",
    "    device=device,\n",
    ")"
   ]
  },
  {
   "cell_type": "code",
   "execution_count": null,
   "metadata": {},
   "outputs": [],
   "source": [
    "plt.plot(train_losses[1:], label=\"train\")\n",
    "plt.plot(val_losses[1:], label=\"val\")\n",
    "plt.legend()\n",
    "plt.show()"
   ]
  },
  {
   "cell_type": "code",
   "execution_count": null,
   "metadata": {},
   "outputs": [],
   "source": []
  }
 ],
 "metadata": {
  "kernelspec": {
   "display_name": "Python 3",
   "language": "python",
   "name": "python3"
  },
  "language_info": {
   "codemirror_mode": {
    "name": "ipython",
    "version": 3
   },
   "file_extension": ".py",
   "mimetype": "text/x-python",
   "name": "python",
   "nbconvert_exporter": "python",
   "pygments_lexer": "ipython3",
   "version": "3.10.13"
  }
 },
 "nbformat": 4,
 "nbformat_minor": 2
}
